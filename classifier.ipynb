{
 "cells": [
  {
   "cell_type": "code",
   "execution_count": 2,
   "metadata": {
    "collapsed": false
   },
   "outputs": [],
   "source": [
    "# ignore warnings.\n",
    "import warnings\n",
    "warnings.filterwarnings('ignore')\n",
    "\n",
    "# Audio processing\n",
    "from scipy.io import wavfile\n",
    "\n",
    "# maths and sci libraries.\n",
    "import numpy as np\n",
    "import scipy as sp\n",
    "\n",
    "# for dict and all.\n",
    "import collections\n",
    "\n",
    "# for plotting.\n",
    "import matplotlib.pyplot as plt\n",
    "\n",
    "# encoding purpose.\n",
    "from base64 import b64decode\n",
    "\n",
    "#pandas for csvs.\n",
    "import pandas as pd"
   ]
  },
  {
   "cell_type": "code",
   "execution_count": 3,
   "metadata": {
    "collapsed": false
   },
   "outputs": [],
   "source": [
    "# create the audio files path.\n",
    "audio_file = collections.defaultdict(dict)\n",
    "\n",
    "# initialise the audio songs as (genre, path).\n",
    "# where path is path of the current .wav audio.\n",
    "\n",
    "audio_file[\"rock\"][\"path\"] = r\"tomydeepestego.wav\""
   ]
  },
  {
   "cell_type": "code",
   "execution_count": 4,
   "metadata": {
    "collapsed": true
   },
   "outputs": [],
   "source": [
    "def audio_length():\n",
    "    samplerate, wavedata = wavfile.read(audio_file[\"rock\"][\"path\"])\n",
    "    audio_file[\"rock\"][\"wavedata\"] = wavedata\n",
    "    audio_file[\"rock\"][\"samplerate\"] = samplerate\n",
    "    number_of_samples = wavedata.shape[0]\n",
    "    print samplerate, wavedata.shape[0]\n",
    "    # song length : number of samples/samplerate.\n",
    "    print \"Audio length: \" + str(number_of_samples/samplerate) + \" seconds\"\n"
   ]
  },
  {
   "cell_type": "code",
   "execution_count": 5,
   "metadata": {
    "collapsed": false,
    "scrolled": true
   },
   "outputs": [
    {
     "name": "stdout",
     "output_type": "stream",
     "text": [
      "44100 16181864\n",
      "Audio length: 366 seconds\n"
     ]
    }
   ],
   "source": [
    "audio_length()"
   ]
  },
  {
   "cell_type": "code",
   "execution_count": 6,
   "metadata": {
    "collapsed": false
   },
   "outputs": [],
   "source": [
    "def wavedata_mean():\n",
    "    audio_file[\"rock\"][\"wavedata\"] = np.mean(audio_file[\"rock\"][\"wavedata\"], axis=1)"
   ]
  },
  {
   "cell_type": "code",
   "execution_count": 7,
   "metadata": {
    "collapsed": true
   },
   "outputs": [],
   "source": [
    "wavedata_mean()"
   ]
  },
  {
   "cell_type": "code",
   "execution_count": 9,
   "metadata": {
    "collapsed": false
   },
   "outputs": [],
   "source": [
    "\"\"\" Zero Crossing Rate : Is a time domain feature.\n",
    "    Simple, straightforward and inexpensive feature to examine the similarity between two sets of time series.\n",
    "    It is the number of times signal changes sign. It is useful for signals affected by noise.\n",
    "\"\"\"\n",
    "def zero_crossing_rate_bruteForce(wavedata):\n",
    "    zero_crossing = 0\n",
    "    for i in range(1, number_of_samples):\n",
    "        if (wavedata[i-1] < 0 and wavedata[i]>0) or (wavedata[i-1] > 0 and wavedata[i] < 0) or (wavedata[i-1] != 0 and wavedata[i] == 0):\n",
    "            zero_crossing += 1;\n",
    "    zero_crossing_rate = zero_crossing / float(number_of_samples-1)\n",
    "    return zero_crossing_rate\n",
    "\n",
    "\n",
    "def zero_crossing_rate(wavedata, block_length, sample_rate):\n",
    "    # Number of blocks required.\n",
    "    num_blocks = int(np.ceil(len(wavedata)/block_length))\n",
    "    \n",
    "    # Timestamps for the beginning of the blocks.\n",
    "    timestamps = (np.arange(0, num_blocks - 1) * (block_length/float(sample_rate)))\n",
    "    \n",
    "    zcr = []\n",
    "    for i in range(0, num_blocks - 1):\n",
    "        start = i*block_length\n",
    "        stop = np.min([(start + block_length - 1), len(wavedata)])\n",
    "        zc = 0.5*np.mean(np.abs(np.diff(np.sign(wavedata[start:stop]))))\n",
    "        zcr.append(zc)\n",
    "        \n",
    "    return np.asarray(zcr), np.asarray(timestamps)\n"
   ]
  },
  {
   "cell_type": "code",
   "execution_count": 16,
   "metadata": {
    "collapsed": true
   },
   "outputs": [],
   "source": [
    "zcr, zcr_timestamps = zero_crossing_rate(audio_file[\"rock\"][\"wavedata\"], 2048, audio_file[\"rock\"][\"samplerate\"])"
   ]
  },
  {
   "cell_type": "code",
   "execution_count": 11,
   "metadata": {
    "collapsed": false
   },
   "outputs": [
    {
     "data": {
      "text/plain": [
       "array([ 0.        ,  0.        ,  0.        , ...,  0.014174  ,\n",
       "        0.02199413,  0.03396872])"
      ]
     },
     "execution_count": 11,
     "metadata": {},
     "output_type": "execute_result"
    }
   ],
   "source": [
    "zcr"
   ]
  },
  {
   "cell_type": "code",
   "execution_count": 13,
   "metadata": {
    "collapsed": false
   },
   "outputs": [
    {
     "data": {
      "text/plain": [
       "[<matplotlib.lines.Line2D at 0x7f6a49ba4e90>]"
      ]
     },
     "execution_count": 13,
     "metadata": {},
     "output_type": "execute_result"
    },
    {
     "data": {
      "image/png": "[encoded data removed]",
      "text/plain": [
       "<matplotlib.figure.Figure at 0x7f6a4bcf1110>"
      ]
     },
     "metadata": {},
     "output_type": "display_data"
    }
   ],
   "source": [
    "plt.plot(timestamps, zcr)"
   ]
  },
  {
   "cell_type": "code",
   "execution_count": 15,
   "metadata": {
    "collapsed": true
   },
   "outputs": [],
   "source": [
    "\"\"\" Root mean Square : comparing arbitary waveforms based upon \n",
    "    their equivalent energy.\"\"\"\n",
    "def root_mean_square(wavedata, block_length, sample_rate):\n",
    "    num_blocks = int(np.ceil(len(wavedata)/block_length))\n",
    "    \n",
    "    timestamps = (np.arange(0, num_blocks-1) * (block_length/float(sample_rate)))\n",
    "    \n",
    "    rms = []\n",
    "    \n",
    "    for i in range(0, num_blocks-1):\n",
    "        start = i*block_length\n",
    "        stop = np.min([(start + block_length -1), len(wavedata)])\n",
    "        \n",
    "        rms_seg = np.sqrt(np.mean(wavedata[start:stop]**2))\n",
    "        rms.append(rms_seg)\n",
    "    return np.asarray(rms), np.asarray(timestamps)"
   ]
  },
  {
   "cell_type": "code",
   "execution_count": 17,
   "metadata": {
    "collapsed": true
   },
   "outputs": [],
   "source": [
    "rms, rms_timestamps = root_mean_square(audio_file[\"rock\"][\"wavedata\"], 2048, audio_file[\"rock\"][\"samplerate\"])"
   ]
  },
  {
   "cell_type": "code",
   "execution_count": 18,
   "metadata": {
    "collapsed": false
   },
   "outputs": [
    {
     "data": {
      "text/plain": [
       "[<matplotlib.lines.Line2D at 0x7f6a49b2f810>]"
      ]
     },
     "execution_count": 18,
     "metadata": {},
     "output_type": "execute_result"
    },
    {
     "data": {
      "image/png": "[encoded data removed]",
      "text/plain": [
       "<matplotlib.figure.Figure at 0x7f6a49b69110>"
      ]
     },
     "metadata": {},
     "output_type": "display_data"
    }
   ],
   "source": [
    "plt.plot(rms_timestamps, rms)"
   ]
  },
  {
   "cell_type": "code",
   "execution_count": null,
   "metadata": {
    "collapsed": true
   },
   "outputs": [],
   "source": []
  }
 ],
 "metadata": {
  "kernelspec": {
   "display_name": "Python 2",
   "language": "python",
   "name": "python2"
  },
  "language_info": {
   "codemirror_mode": {
    "name": "ipython",
    "version": 2
   },
   "file_extension": ".py",
   "mimetype": "text/x-python",
   "name": "python",
   "nbconvert_exporter": "python",
   "pygments_lexer": "ipython2",
   "version": "2.7.6"
  }
 },
 "nbformat": 4,
 "nbformat_minor": 0
}
