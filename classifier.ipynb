{
 "cells": [
  {
   "cell_type": "code",
   "execution_count": 9,
   "metadata": {
    "collapsed": false
   },
   "outputs": [],
   "source": [
    "# ignore warnings.\n",
    "import warnings\n",
    "warnings.filterwarnings('ignore')\n",
    "\n",
    "# Audio processing\n",
    "from scipy.io import wavfile\n",
    "\n",
    "# maths and sci libraries.\n",
    "import numpy as np\n",
    "import scipy as sp\n",
    "\n",
    "# for dict and all.\n",
    "import collections\n",
    "\n",
    "# for plotting.\n",
    "import matplotlib.pyplot as plt\n",
    "\n",
    "# encoding purpose.\n",
    "from base64 import b64decode\n",
    "\n",
    "#pandas for csvs.\n",
    "import pandas as pd\n",
    "\n"
   ]
  },
  {
   "cell_type": "code",
   "execution_count": 5,
   "metadata": {
    "collapsed": false
   },
   "outputs": [],
   "source": [
    "# create the audio files path.\n",
    "audio_file = collections.defaultdict(dict)\n",
    "\n",
    "# initialise the audio songs as (genre, path).\n",
    "# where path is path of the current .wav audio.\n",
    "\n",
    "audio_file[\"rock\"][\"path\"] = r\"tomydeepestego.wav\""
   ]
  },
  {
   "cell_type": "code",
   "execution_count": 13,
   "metadata": {
    "collapsed": true
   },
   "outputs": [],
   "source": [
    "def audio_length():\n",
    "    samplerate, wavedata = wavfile.read(audio_file[\"rock\"][\"path\"])\n",
    "    number_of_samples = wavedata.shape[0]\n",
    "    print samplerate, wavedata.shape[0]\n",
    "    # song length : number of samples/samplerate.\n",
    "    print \"Audio length: \" + str(number_of_samples/samplerate) + \" seconds\"\n"
   ]
  },
  {
   "cell_type": "code",
   "execution_count": 14,
   "metadata": {
    "collapsed": false,
    "scrolled": true
   },
   "outputs": [
    {
     "name": "stdout",
     "output_type": "stream",
     "text": [
      "44100 16181864\n",
      "Audio length: 366 seconds\n"
     ]
    }
   ],
   "source": [
    "audio_length()"
   ]
  },
  {
   "cell_type": "code",
   "execution_count": null,
   "metadata": {
    "collapsed": true
   },
   "outputs": [],
   "source": []
  },
  {
   "cell_type": "code",
   "execution_count": null,
   "metadata": {
    "collapsed": true
   },
   "outputs": [],
   "source": []
  }
 ],
 "metadata": {
  "kernelspec": {
   "display_name": "Python 2",
   "language": "python",
   "name": "python2"
  },
  "language_info": {
   "codemirror_mode": {
    "name": "ipython",
    "version": 2
   },
   "file_extension": ".py",
   "mimetype": "text/x-python",
   "name": "python",
   "nbconvert_exporter": "python",
   "pygments_lexer": "ipython2",
   "version": "2.7.6"
  }
 },
 "nbformat": 4,
 "nbformat_minor": 0
}
